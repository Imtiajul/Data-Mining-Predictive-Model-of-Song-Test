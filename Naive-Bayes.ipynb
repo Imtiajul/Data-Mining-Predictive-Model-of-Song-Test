{
 "cells": [
  {
   "cell_type": "code",
   "execution_count": 1,
   "metadata": {},
   "outputs": [],
   "source": [
    "from sklearn.metrics import accuracy_score, f1_score, precision_score, recall_score, classification_report, confusion_matrix\n",
    "import numpy as np\n",
    "import timeit\n",
    "import matplotlib.pyplot as plt\n",
    "from sklearn.model_selection import train_test_split \n",
    "import pandas as pd "
   ]
  },
  {
   "cell_type": "code",
   "execution_count": 2,
   "metadata": {},
   "outputs": [],
   "source": [
    "accuracyScore = {}\n",
    "f1Score = {}\n",
    "precisionScore = {}\n",
    "recallScore = {}\n",
    "\n",
    "trainingTime = {}\n",
    "testingTime = {}"
   ]
  },
  {
   "cell_type": "code",
   "execution_count": 7,
   "metadata": {},
   "outputs": [],
   "source": [
    "\n",
    "#data = np.load(\"data.csv\", delimiter=\",\") \n",
    "data = pd.read_csv(\"data.csv\") \n",
    "#print(\"Train = \",len(trainData))\n"
   ]
  },
  {
   "cell_type": "code",
   "execution_count": 8,
   "metadata": {},
   "outputs": [
    {
     "name": "stdout",
     "output_type": "stream",
     "text": [
      "Test =  303\n"
     ]
    }
   ],
   "source": [
    "train, test = train_test_split(data, test_size = 0.15)\n",
    "print(\"Test = \",len(test))\n"
   ]
  },
  {
   "cell_type": "code",
   "execution_count": 9,
   "metadata": {},
   "outputs": [],
   "source": [
    "\n",
    "X = np.array(train)[:,0:14]\n",
    "Y = np.array(train)[:,14]\n",
    "\n",
    "x = np.array(test)[:,0:14]\n",
    "y = np.array(test)[:,14]\n",
    "\n",
    "\n",
    "\n",
    "from sklearn.decomposition import PCA\n",
    "pca = PCA(n_components=14)# adjust yourself\n",
    "pca.fit(X)\n",
    "X_t_train = pca.transform(X)\n",
    "X_t_test = pca.transform(x)"
   ]
  },
  {
   "cell_type": "code",
   "execution_count": 10,
   "metadata": {},
   "outputs": [
    {
     "data": {
      "text/plain": [
       "array([[-3.15013284e+04,  1.46965042e+02, -2.42224860e+01, ...,\n",
       "         2.81300711e-02, -1.63344699e-02,  3.16373047e-02],\n",
       "       [-2.81903743e+04,  2.18164426e+02, -3.70310196e+01, ...,\n",
       "         8.28199821e-02, -1.28734032e-01,  9.36978613e-03],\n",
       "       [ 5.40901500e+04, -5.51652837e+02,  8.96162227e+00, ...,\n",
       "        -5.07565249e-02, -7.36525264e-02, -1.98731630e-02],\n",
       "       ...,\n",
       "       [ 3.37089409e+05,  6.64922214e+02,  1.53182879e+01, ...,\n",
       "        -7.50887955e-02,  1.78706826e-01,  5.76478283e-04],\n",
       "       [ 2.42650815e+04, -4.57305963e+02,  1.15412274e+00, ...,\n",
       "         7.44657540e-03, -1.63112130e-03, -9.16397693e-02],\n",
       "       [-2.74427893e+04, -6.71441217e+02,  3.12837384e+01, ...,\n",
       "        -1.11169605e-02, -2.37516033e-01, -5.97012446e-02]])"
      ]
     },
     "execution_count": 10,
     "metadata": {},
     "output_type": "execute_result"
    }
   ],
   "source": [
    "X_t_train"
   ]
  },
  {
   "cell_type": "code",
   "execution_count": null,
   "metadata": {},
   "outputs": [],
   "source": []
  },
  {
   "cell_type": "code",
   "execution_count": 11,
   "metadata": {},
   "outputs": [
    {
     "name": "stdout",
     "output_type": "stream",
     "text": [
      "Naive Bayes\n"
     ]
    }
   ],
   "source": [
    "print(\"Naive Bayes\")\n",
    "\n",
    "from sklearn.naive_bayes import GaussianNB\n",
    "clf = GaussianNB()\n"
   ]
  },
  {
   "cell_type": "code",
   "execution_count": null,
   "metadata": {},
   "outputs": [],
   "source": []
  },
  {
   "cell_type": "code",
   "execution_count": 12,
   "metadata": {},
   "outputs": [],
   "source": [
    "\n",
    "trainStart = timeit.default_timer()\n",
    "clf.fit(X_t_train,Y)\n",
    "trainStop = timeit.default_timer()\n",
    "\n"
   ]
  },
  {
   "cell_type": "code",
   "execution_count": 13,
   "metadata": {},
   "outputs": [],
   "source": [
    "testStart = timeit.default_timer()\n",
    "predictions = clf.predict(X_t_test)\n",
    "testStop = timeit.default_timer()\n",
    "cm = confusion_matrix(y, predictions)\n",
    "\n"
   ]
  },
  {
   "cell_type": "code",
   "execution_count": 14,
   "metadata": {},
   "outputs": [
    {
     "name": "stdout",
     "output_type": "stream",
     "text": [
      "[1. 1. 1. 0. 0. 1. 0. 1. 1. 0. 1. 0. 0. 1. 1. 1. 0. 1. 1. 0. 0. 0. 0. 1.\n",
      " 0. 1. 1. 0. 0. 0. 1. 0. 0. 1. 0. 1. 0. 0. 0. 1. 1. 1. 0. 0. 0. 1. 0. 1.\n",
      " 1. 0. 0. 1. 1. 0. 1. 0. 0. 0. 1. 1. 0. 0. 0. 1. 0. 0. 1. 0. 1. 1. 1. 0.\n",
      " 1. 0. 1. 0. 1. 1. 1. 0. 0. 0. 1. 0. 0. 0. 1. 0. 0. 1. 0. 0. 0. 0. 0. 0.\n",
      " 1. 1. 1. 0. 1. 1. 0. 1. 0. 0. 1. 1. 0. 1. 0. 1. 1. 0. 1. 0. 1. 1. 0. 1.\n",
      " 1. 1. 0. 1. 0. 0. 1. 1. 0. 0. 1. 1. 1. 1. 0. 0. 1. 1. 0. 1. 0. 0. 0. 1.\n",
      " 0. 1. 0. 0. 0. 0. 1. 1. 1. 0. 0. 1. 1. 1. 1. 1. 0. 0. 0. 0. 1. 0. 1. 1.\n",
      " 1. 0. 0. 1. 0. 0. 1. 0. 0. 1. 1. 0. 1. 0. 0. 0. 0. 0. 0. 0. 0. 1. 1. 0.\n",
      " 1. 0. 1. 0. 0. 1. 0. 1. 1. 1. 0. 1. 1. 1. 0. 0. 0. 0. 0. 1. 1. 0. 0. 1.\n",
      " 0. 1. 0. 1. 1. 1. 0. 1. 0. 0. 0. 0. 0. 1. 1. 0. 0. 0. 0. 0. 0. 0. 0. 0.\n",
      " 0. 0. 0. 1. 1. 0. 0. 1. 0. 1. 0. 0. 0. 1. 1. 0. 0. 0. 1. 1. 1. 1. 0. 0.\n",
      " 0. 0. 1. 1. 1. 0. 1. 1. 1. 0. 1. 1. 1. 1. 1. 0. 0. 1. 0. 1. 0. 1. 1. 0.\n",
      " 0. 0. 1. 1. 0. 1. 0. 0. 0. 0. 0. 0. 1. 1. 1.]\n",
      "Accuracy:  98.68\n",
      "Precision:  98.57\n"
     ]
    }
   ],
   "source": [
    "#print(cm)\n",
    "\n",
    "print(predictions)\n",
    "\n",
    "accuracyScore['naive'] = format(accuracy_score(y, predictions)*100,'.2f')\n",
    "f1Score['naive'] = format(f1_score(y, predictions, average=\"macro\")*100,'.2f')\n",
    "precisionScore['naive'] = format(precision_score(y, predictions, average=\"macro\")*100,'.2f')\n",
    "recallScore['naive'] = format(recall_score(y, predictions, average=\"macro\")*100,'.2f')\n",
    "trainingTime['naive'] = (trainStop-trainStart)*1000\n",
    "testingTime['naive'] = (testStop-testStart)*1000\n",
    "\n",
    "print(\"Accuracy: \", accuracyScore['naive'])\n",
    "print(\"Precision: \", precisionScore['naive'])"
   ]
  },
  {
   "cell_type": "code",
   "execution_count": null,
   "metadata": {},
   "outputs": [],
   "source": []
  }
 ],
 "metadata": {
  "kernelspec": {
   "display_name": "Python 3",
   "language": "python",
   "name": "python3"
  },
  "language_info": {
   "codemirror_mode": {
    "name": "ipython",
    "version": 3
   },
   "file_extension": ".py",
   "mimetype": "text/x-python",
   "name": "python",
   "nbconvert_exporter": "python",
   "pygments_lexer": "ipython3",
   "version": "3.7.1"
  }
 },
 "nbformat": 4,
 "nbformat_minor": 2
}
