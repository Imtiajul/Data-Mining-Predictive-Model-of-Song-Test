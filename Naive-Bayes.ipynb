{
 "cells": [
  {
   "cell_type": "code",
   "execution_count": 132,
   "metadata": {},
   "outputs": [],
   "source": [
    "from sklearn.metrics import accuracy_score, f1_score, precision_score, recall_score, classification_report, confusion_matrix\n",
    "import numpy as np\n",
    "import timeit\n",
    "import matplotlib.pyplot as plt\n",
    "from sklearn.model_selection import train_test_split \n",
    "import pandas as pd "
   ]
  },
  {
   "cell_type": "code",
   "execution_count": 133,
   "metadata": {},
   "outputs": [],
   "source": [
    "accuracyScore = {}\n",
    "f1Score = {}\n",
    "precisionScore = {}\n",
    "recallScore = {}\n",
    "\n",
    "trainingTime = {}\n",
    "testingTime = {}"
   ]
  },
  {
   "cell_type": "code",
   "execution_count": 134,
   "metadata": {},
   "outputs": [],
   "source": [
    "data = pd.read_csv(\"data.csv\")"
   ]
  },
  {
   "cell_type": "code",
   "execution_count": 135,
   "metadata": {},
   "outputs": [
    {
     "name": "stdout",
     "output_type": "stream",
     "text": [
      "Test =  505\n"
     ]
    }
   ],
   "source": [
    "train, test = train_test_split(data, test_size = 0.25)\n",
    "print(\"Test = \",len(test))\n"
   ]
  },
  {
   "cell_type": "code",
   "execution_count": 136,
   "metadata": {},
   "outputs": [],
   "source": [
    "\n",
    "X = np.array(train)[:,0:14]\n",
    "Y = np.array(train)[:,14]\n",
    "\n",
    "x = np.array(test)[:,0:14]\n",
    "y = np.array(test)[:,14]\n",
    "\n",
    "\n",
    "\n",
    "from sklearn.decomposition import PCA\n",
    "pca = PCA(n_components=14)# adjust yourself\n",
    "pca.fit(X)\n",
    "X_t_train = pca.transform(X)\n",
    "X_t_test = pca.transform(x)"
   ]
  },
  {
   "cell_type": "code",
   "execution_count": 137,
   "metadata": {},
   "outputs": [
    {
     "data": {
      "text/plain": [
       "array([[-8.23099995e+04,  8.48276771e+02,  2.35580057e+00, ...,\n",
       "        -1.48778309e-01, -1.17926030e-02, -2.92873724e-02],\n",
       "       [-1.94034471e+04,  1.49942609e+01, -1.70577701e+01, ...,\n",
       "         4.54034637e-02, -2.92865216e-02, -6.95412354e-02],\n",
       "       [-5.74435713e+04,  1.94385791e+02, -1.06436788e+01, ...,\n",
       "         1.33149126e-01, -1.65671468e-01, -5.64905721e-02],\n",
       "       ...,\n",
       "       [ 1.24238890e+04, -4.94414487e+02, -2.25736801e+01, ...,\n",
       "         1.82364718e-01, -1.09495490e-02,  1.10948174e-01],\n",
       "       [-7.95764464e+04, -8.05240645e+00,  3.62028210e+01, ...,\n",
       "        -5.71479856e-02, -9.32307259e-02, -2.82024743e-02],\n",
       "       [ 7.20302829e+02,  4.04794321e+02,  6.13508093e+01, ...,\n",
       "         5.05257805e-02, -2.59409803e-01, -3.03865186e-02]])"
      ]
     },
     "execution_count": 137,
     "metadata": {},
     "output_type": "execute_result"
    }
   ],
   "source": [
    "X_t_train"
   ]
  },
  {
   "cell_type": "code",
   "execution_count": 138,
   "metadata": {},
   "outputs": [
    {
     "name": "stdout",
     "output_type": "stream",
     "text": [
      "Naive Bayes\n"
     ]
    }
   ],
   "source": [
    "print(\"Naive Bayes\")\n",
    "\n",
    "from sklearn.naive_bayes import GaussianNB\n",
    "clf = GaussianNB()\n"
   ]
  },
  {
   "cell_type": "code",
   "execution_count": 139,
   "metadata": {},
   "outputs": [],
   "source": [
    "\n",
    "trainStart = timeit.default_timer()\n",
    "clf.fit(X_t_train,Y)\n",
    "trainStop = timeit.default_timer()\n",
    "\n"
   ]
  },
  {
   "cell_type": "code",
   "execution_count": 140,
   "metadata": {},
   "outputs": [],
   "source": [
    "testStart = timeit.default_timer()\n",
    "predictions = clf.predict(X_t_test)\n",
    "testStop = timeit.default_timer()\n",
    "cm = confusion_matrix(y, predictions)\n",
    "\n"
   ]
  },
  {
   "cell_type": "code",
   "execution_count": 141,
   "metadata": {},
   "outputs": [
    {
     "name": "stdout",
     "output_type": "stream",
     "text": [
      "[1. 1. 0. 1. 0. 0. 0. 1. 1. 0. 0. 0. 1. 0. 0. 1. 1. 0. 1. 1. 1. 1. 1. 0.\n",
      " 1. 1. 1. 0. 1. 0. 0. 0. 1. 0. 0. 0. 1. 0. 0. 1. 0. 1. 0. 1. 0. 1. 1. 1.\n",
      " 1. 1. 1. 1. 1. 1. 0. 1. 0. 1. 0. 0. 1. 0. 1. 0. 1. 0. 1. 1. 0. 1. 0. 0.\n",
      " 1. 0. 1. 0. 1. 0. 0. 1. 1. 0. 1. 0. 0. 1. 0. 1. 0. 0. 0. 1. 0. 1. 0. 1.\n",
      " 0. 1. 1. 0. 0. 1. 1. 1. 0. 0. 1. 1. 0. 0. 1. 1. 1. 1. 0. 0. 0. 1. 1. 1.\n",
      " 0. 0. 1. 0. 1. 1. 1. 1. 0. 0. 1. 0. 0. 1. 1. 0. 0. 1. 1. 0. 0. 1. 1. 0.\n",
      " 1. 1. 1. 1. 1. 0. 0. 1. 1. 0. 0. 1. 0. 1. 0. 0. 0. 1. 1. 1. 1. 0. 0. 1.\n",
      " 0. 0. 0. 0. 0. 0. 0. 0. 1. 0. 0. 1. 1. 0. 1. 0. 1. 0. 0. 0. 0. 1. 1. 0.\n",
      " 1. 1. 0. 0. 1. 1. 0. 0. 0. 0. 1. 0. 1. 1. 0. 1. 0. 0. 1. 1. 1. 1. 1. 1.\n",
      " 0. 1. 1. 0. 0. 1. 0. 1. 0. 1. 1. 0. 1. 0. 0. 1. 1. 1. 1. 1. 0. 0. 0. 0.\n",
      " 0. 1. 0. 1. 1. 1. 0. 0. 1. 0. 0. 0. 0. 1. 0. 1. 1. 1. 1. 0. 1. 0. 0. 1.\n",
      " 0. 0. 0. 0. 0. 0. 1. 1. 0. 1. 0. 0. 1. 1. 1. 0. 0. 1. 1. 1. 1. 1. 0. 0.\n",
      " 1. 1. 1. 0. 0. 0. 1. 1. 0. 0. 1. 1. 0. 1. 1. 1. 0. 0. 0. 0. 1. 1. 0. 1.\n",
      " 0. 1. 0. 1. 0. 1. 0. 1. 0. 0. 0. 1. 0. 1. 0. 1. 1. 0. 0. 1. 1. 0. 0. 0.\n",
      " 0. 1. 0. 0. 0. 0. 0. 0. 1. 0. 0. 0. 0. 1. 0. 1. 1. 0. 0. 1. 0. 0. 1. 1.\n",
      " 1. 1. 0. 0. 0. 1. 0. 0. 1. 1. 0. 0. 1. 0. 1. 1. 0. 1. 1. 1. 1. 1. 1. 0.\n",
      " 1. 0. 1. 1. 0. 1. 0. 1. 0. 0. 0. 1. 0. 0. 0. 1. 1. 1. 1. 0. 1. 1. 1. 0.\n",
      " 0. 1. 1. 0. 1. 1. 1. 0. 1. 1. 0. 1. 1. 1. 0. 1. 0. 0. 1. 0. 1. 1. 0. 0.\n",
      " 0. 1. 0. 1. 1. 0. 0. 0. 0. 0. 1. 1. 0. 0. 0. 0. 0. 1. 1. 0. 0. 0. 0. 1.\n",
      " 0. 0. 1. 1. 1. 0. 1. 0. 0. 0. 0. 1. 0. 1. 1. 0. 0. 1. 1. 1. 0. 1. 0. 0.\n",
      " 0. 1. 0. 1. 0. 0. 0. 1. 0. 1. 1. 0. 0. 0. 1. 1. 1. 0. 1. 0. 0. 0. 0. 0.\n",
      " 1.]\n",
      "Accuracy:  99.01\n",
      "Precision:  99.00\n",
      "Recall:  99.03\n",
      "F1Score:  99.01\n",
      "Training Time:  2.0672999999931108\n",
      "Testing Time:  1.5381999999988238\n"
     ]
    }
   ],
   "source": [
    "#print(cm)\n",
    "\n",
    "print(predictions)\n",
    "\n",
    "accuracyScore['naive'] = format(accuracy_score(y, predictions)*100,'.2f')\n",
    "f1Score['naive'] = format(f1_score(y, predictions, average=\"macro\")*100,'.2f')\n",
    "precisionScore['naive'] = format(precision_score(y, predictions, average=\"macro\")*100,'.2f')\n",
    "recallScore['naive'] = format(recall_score(y, predictions, average=\"macro\")*100,'.2f')\n",
    "trainingTime['naive'] = (trainStop-trainStart)*1000\n",
    "testingTime['naive'] = (testStop-testStart)*1000\n",
    "\n",
    "print(\"Accuracy: \", accuracyScore['naive'])\n",
    "print(\"Precision: \", precisionScore['naive'])\n",
    "print(\"Recall: \", recallScore['naive'])\n",
    "print(\"F1Score: \", f1Score['naive'])\n",
    "print(\"Training Time: \", trainingTime['naive'])\n",
    "print(\"Testing Time: \", testingTime['naive'])"
   ]
  },
  {
   "cell_type": "code",
   "execution_count": null,
   "metadata": {},
   "outputs": [],
   "source": []
  },
  {
   "cell_type": "code",
   "execution_count": null,
   "metadata": {},
   "outputs": [],
   "source": []
  }
 ],
 "metadata": {
  "kernelspec": {
   "display_name": "Python 3",
   "language": "python",
   "name": "python3"
  },
  "language_info": {
   "codemirror_mode": {
    "name": "ipython",
    "version": 3
   },
   "file_extension": ".py",
   "mimetype": "text/x-python",
   "name": "python",
   "nbconvert_exporter": "python",
   "pygments_lexer": "ipython3",
   "version": "3.7.1"
  }
 },
 "nbformat": 4,
 "nbformat_minor": 2
}
