{
 "cells": [
  {
   "cell_type": "code",
   "execution_count": 81,
   "metadata": {},
   "outputs": [],
   "source": [
    "from sklearn.metrics import accuracy_score, f1_score, precision_score, recall_score, classification_report, confusion_matrix\n",
    "import numpy as np\n",
    "import timeit\n",
    "import matplotlib.pyplot as plt\n",
    "from sklearn.model_selection import train_test_split \n",
    "import pandas as pd "
   ]
  },
  {
   "cell_type": "code",
   "execution_count": 82,
   "metadata": {},
   "outputs": [],
   "source": [
    "accuracyScore = {}\n",
    "f1Score = {}\n",
    "precisionScore = {}\n",
    "recallScore = {}\n",
    "\n",
    "trainingTime = {}\n",
    "testingTime = {}"
   ]
  },
  {
   "cell_type": "code",
   "execution_count": 83,
   "metadata": {},
   "outputs": [],
   "source": [
    "data = pd.read_csv(\"data.csv\")"
   ]
  },
  {
   "cell_type": "code",
   "execution_count": 84,
   "metadata": {},
   "outputs": [
    {
     "name": "stdout",
     "output_type": "stream",
     "text": [
      "Test =  505\n"
     ]
    }
   ],
   "source": [
    "train, test = train_test_split(data, test_size = 0.25)\n",
    "print(\"Test = \",len(test))\n"
   ]
  },
  {
   "cell_type": "code",
   "execution_count": 85,
   "metadata": {},
   "outputs": [],
   "source": [
    "\n",
    "X = np.array(train)[:,0:14]\n",
    "Y = np.array(train)[:,14]\n",
    "\n",
    "x = np.array(test)[:,0:14]\n",
    "y = np.array(test)[:,14]\n",
    "\n",
    "\n",
    "\n",
    "from sklearn.decomposition import PCA\n",
    "pca = PCA(n_components=14)# adjust yourself\n",
    "pca.fit(X)\n",
    "X_t_train = pca.transform(X)\n",
    "X_t_test = pca.transform(x)"
   ]
  },
  {
   "cell_type": "code",
   "execution_count": 86,
   "metadata": {},
   "outputs": [
    {
     "data": {
      "text/plain": [
       "array([[-1.77691506e+04,  7.14193771e+01, -3.09325157e+01, ...,\n",
       "        -9.57075287e-02,  5.12367948e-02, -2.06459711e-02],\n",
       "       [-1.37204978e+05, -1.85832913e+02,  2.85805804e+00, ...,\n",
       "         3.66814421e-02,  1.95325424e-01, -2.01389988e-02],\n",
       "       [-3.04140025e+04, -1.12285085e+02,  2.32034052e+01, ...,\n",
       "         1.83359772e-01,  1.34711680e-01, -1.07355267e-02],\n",
       "       ...,\n",
       "       [-3.31763918e+04, -8.40554635e+02, -4.11687658e+00, ...,\n",
       "        -1.15867965e-01,  5.00156535e-02, -8.23074891e-02],\n",
       "       [-2.94083786e+04, -8.54374071e+02, -1.54548989e+01, ...,\n",
       "         7.27979440e-02, -1.03737950e-01, -1.04308212e-01],\n",
       "       [ 1.32017657e+05, -8.27911932e+02, -3.96103035e+01, ...,\n",
       "        -1.95759565e-01,  1.23917934e-01, -5.06472549e-02]])"
      ]
     },
     "execution_count": 86,
     "metadata": {},
     "output_type": "execute_result"
    }
   ],
   "source": [
    "X_t_train"
   ]
  },
  {
   "cell_type": "code",
   "execution_count": 87,
   "metadata": {},
   "outputs": [
    {
     "name": "stdout",
     "output_type": "stream",
     "text": [
      "Naive Bayes\n"
     ]
    }
   ],
   "source": [
    "print(\"Naive Bayes\")\n",
    "\n",
    "from sklearn.naive_bayes import GaussianNB\n",
    "clf = GaussianNB()\n"
   ]
  },
  {
   "cell_type": "code",
   "execution_count": 88,
   "metadata": {},
   "outputs": [],
   "source": [
    "\n",
    "trainStart = timeit.default_timer()\n",
    "clf.fit(X_t_train,Y)\n",
    "trainStop = timeit.default_timer()\n",
    "\n"
   ]
  },
  {
   "cell_type": "code",
   "execution_count": 89,
   "metadata": {},
   "outputs": [],
   "source": [
    "testStart = timeit.default_timer()\n",
    "predictions = clf.predict(X_t_test)\n",
    "testStop = timeit.default_timer()\n",
    "cm = confusion_matrix(y, predictions)\n",
    "\n"
   ]
  },
  {
   "cell_type": "code",
   "execution_count": 90,
   "metadata": {},
   "outputs": [
    {
     "name": "stdout",
     "output_type": "stream",
     "text": [
      "[1. 0. 0. 1. 0. 1. 0. 1. 1. 1. 0. 0. 1. 1. 0. 1. 1. 1. 1. 1. 1. 1. 1. 1.\n",
      " 0. 1. 0. 1. 0. 1. 0. 0. 1. 0. 1. 1. 1. 1. 1. 1. 1. 0. 1. 0. 1. 1. 1. 0.\n",
      " 1. 0. 1. 1. 1. 0. 0. 1. 1. 1. 0. 1. 1. 1. 0. 1. 1. 1. 0. 1. 0. 0. 0. 1.\n",
      " 1. 1. 0. 0. 0. 0. 1. 0. 0. 1. 0. 0. 0. 0. 1. 1. 0. 0. 1. 0. 1. 0. 1. 1.\n",
      " 0. 0. 0. 1. 0. 0. 0. 1. 0. 1. 0. 1. 0. 1. 0. 1. 0. 1. 0. 0. 0. 0. 0. 1.\n",
      " 0. 1. 1. 1. 0. 0. 0. 0. 0. 1. 1. 0. 0. 1. 0. 1. 0. 0. 1. 0. 1. 1. 1. 0.\n",
      " 1. 1. 1. 1. 0. 1. 1. 1. 1. 1. 1. 0. 1. 0. 1. 1. 1. 0. 1. 1. 1. 0. 1. 1.\n",
      " 0. 0. 1. 0. 0. 1. 0. 1. 1. 0. 1. 1. 0. 1. 0. 1. 1. 1. 0. 1. 1. 0. 1. 1.\n",
      " 1. 0. 1. 1. 0. 1. 0. 0. 1. 0. 0. 1. 0. 0. 0. 0. 0. 1. 1. 0. 1. 0. 1. 0.\n",
      " 1. 1. 0. 1. 1. 1. 0. 1. 0. 0. 1. 0. 1. 1. 0. 0. 0. 1. 0. 1. 0. 1. 0. 1.\n",
      " 1. 0. 0. 1. 0. 1. 0. 0. 1. 1. 0. 1. 0. 0. 1. 1. 1. 1. 0. 0. 1. 0. 0. 1.\n",
      " 0. 1. 0. 1. 1. 1. 0. 0. 1. 1. 0. 1. 0. 1. 1. 1. 0. 0. 0. 1. 0. 1. 1. 1.\n",
      " 0. 1. 0. 0. 0. 1. 1. 0. 1. 0. 0. 1. 0. 1. 1. 0. 1. 0. 0. 1. 1. 1. 1. 1.\n",
      " 1. 1. 1. 1. 0. 1. 0. 0. 0. 0. 0. 1. 0. 1. 0. 1. 1. 1. 1. 0. 0. 0. 0. 0.\n",
      " 0. 1. 0. 1. 1. 0. 0. 0. 1. 1. 1. 1. 1. 0. 0. 1. 0. 1. 0. 0. 1. 1. 0. 1.\n",
      " 0. 1. 0. 0. 0. 0. 1. 0. 0. 0. 1. 0. 1. 0. 1. 1. 1. 1. 0. 0. 0. 0. 0. 1.\n",
      " 0. 0. 0. 1. 1. 0. 0. 1. 1. 1. 1. 0. 0. 0. 0. 0. 1. 0. 1. 1. 0. 1. 0. 1.\n",
      " 1. 0. 1. 1. 1. 1. 1. 0. 0. 0. 0. 1. 0. 0. 0. 1. 1. 0. 1. 0. 0. 1. 0. 1.\n",
      " 1. 0. 0. 1. 0. 1. 0. 1. 1. 1. 1. 1. 0. 0. 1. 1. 1. 1. 1. 1. 1. 0. 0. 1.\n",
      " 1. 0. 1. 1. 1. 0. 0. 1. 1. 0. 1. 1. 0. 1. 0. 1. 0. 0. 1. 0. 1. 0. 0. 1.\n",
      " 0. 1. 0. 1. 1. 1. 0. 1. 1. 0. 1. 1. 0. 1. 0. 1. 1. 0. 0. 1. 1. 1. 0. 0.\n",
      " 0.]\n",
      "Accuracy:  97.82\n",
      "Precision:  97.85\n",
      "Recall:  97.78\n",
      "F1Score:  97.81\n",
      "Training Time:  1.799200000000667\n",
      "Testing Time:  1.3836999999981003\n"
     ]
    }
   ],
   "source": [
    "#print(cm)\n",
    "\n",
    "print(predictions)\n",
    "\n",
    "accuracyScore['naive'] = format(accuracy_score(y, predictions)*100,'.2f')\n",
    "f1Score['naive'] = format(f1_score(y, predictions, average=\"macro\")*100,'.2f')\n",
    "precisionScore['naive'] = format(precision_score(y, predictions, average=\"macro\")*100,'.2f')\n",
    "recallScore['naive'] = format(recall_score(y, predictions, average=\"macro\")*100,'.2f')\n",
    "trainingTime['naive'] = (trainStop-trainStart)*1000\n",
    "testingTime['naive'] = (testStop-testStart)*1000\n",
    "\n",
    "print(\"Accuracy: \", accuracyScore['naive'])\n",
    "print(\"Precision: \", precisionScore['naive'])\n",
    "print(\"Recall: \", recallScore['naive'])\n",
    "print(\"F1Score: \", f1Score['naive'])\n",
    "print(\"Training Time: \", trainingTime['naive'])\n",
    "print(\"Testing Time: \", testingTime['naive'])"
   ]
  },
  {
   "cell_type": "code",
   "execution_count": null,
   "metadata": {},
   "outputs": [],
   "source": []
  }
 ],
 "metadata": {
  "kernelspec": {
   "display_name": "Python 3",
   "language": "python",
   "name": "python3"
  },
  "language_info": {
   "codemirror_mode": {
    "name": "ipython",
    "version": 3
   },
   "file_extension": ".py",
   "mimetype": "text/x-python",
   "name": "python",
   "nbconvert_exporter": "python",
   "pygments_lexer": "ipython3",
   "version": "3.7.1"
  }
 },
 "nbformat": 4,
 "nbformat_minor": 2
}
